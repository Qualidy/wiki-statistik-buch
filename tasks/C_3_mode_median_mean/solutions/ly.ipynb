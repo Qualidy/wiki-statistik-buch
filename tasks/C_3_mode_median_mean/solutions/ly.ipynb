{
 "cells": [
  {
   "cell_type": "code",
   "execution_count": null,
   "metadata": {
    "vscode": {
     "languageId": "plaintext"
    }
   },
   "outputs": [],
   "source": [
    "def calc_modus(values):\n",
    "    if not values:\n",
    "        raise ValueError(\"Not defined for empty list of values\")\n",
    "    values_count = {val: values.count(val) for val in set(values)}\n",
    "    return max(values_count, key=values_count.get )\n",
    "   \n",
    "def calc_median(values):\n",
    "    if not values:\n",
    "        raise ValueError(\"Not defined for empty list of values\")\n",
    "    sorted_values = sorted(values)\n",
    "    n_values = len(values)\n",
    "    if all(isinstance(elem, int | float) for elem in sorted_values):\n",
    "        return sorted_values[n_values // 2] if n_values % 2 else 0.5 * (sorted_values[n_values // 2 - 1] + sorted_values[n_values // 2])\n",
    "    else:\n",
    "        return sorted_values[n_values // 2] if n_values % 2 else  \\\n",
    "            (sorted_values[n_values // 2 - 1], sorted_values[n_values // 2]) if not len(set(sorted_values[n_values // 2 - 1], sorted_values[n_values // 2])) else \\\n",
    "            sorted_values[n_values // 2 - 1]                                                                           \n",
    "\n",
    "def calc_mean(values):\n",
    "    if not values:\n",
    "        raise ValueError(\"Not defined for empty list of values\")\n",
    "    return sum(values) / len(values)"
   ]
  },
  {
   "cell_type": "code",
   "execution_count": null,
   "metadata": {
    "vscode": {
     "languageId": "plaintext"
    }
   },
   "outputs": [],
   "source": [
    "import unittest\n",
    "from parameterized import parameterized\n",
    "\n",
    "class TestModeMedianMean(unittest.TestCase):\n",
    "    @parameterized.expand([\n",
    "        ([1], 1),\n",
    "        ([1, 1], 1),\n",
    "        ([3, 1, 2, 1], 1)\n",
    "    ])\n",
    "    def test_mode(self, values, expected):\n",
    "        self.assertEqual(calc_modus(values), expected)\n",
    "\n",
    "    @parameterized.expand([\n",
    "        ([1], 1),\n",
    "        ([1, 1], 1),\n",
    "        ([3, 1, 2, 1], 1.5),\n",
    "        ([3, 1, 2, 4, 5], 3),\n",
    "        ([\"a\", \"b\", \"c\", \"c\", \"c\", \"c\", \"b\"], \"c\" )\n",
    "\n",
    "    ])\n",
    "    def test_median(self, values, expected):\n",
    "        self.assertEqual(calc_median(values), expected)\n",
    "\n",
    "    @parameterized.expand([\n",
    "        ([1], 1),\n",
    "        ([1, 1], 1),\n",
    "        ([3, 1, 2, 1, 3], 2),\n",
    "        ([0, 1], 0.5),\n",
    "    ])\n",
    "    def test_mean(self, values, expected):\n",
    "        self.assertAlmostEqual(calc_mean(values), expected)\n",
    "\n",
    "unittest.main(argv=[''], verbosity=2, exit=False)  "
   ]
  }
 ],
 "metadata": {
  "language_info": {
   "name": "python"
  }
 },
 "nbformat": 4,
 "nbformat_minor": 2
}
