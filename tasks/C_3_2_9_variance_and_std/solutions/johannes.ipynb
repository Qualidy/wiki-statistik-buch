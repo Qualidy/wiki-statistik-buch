{
 "cells": [
  {
   "cell_type": "code",
   "execution_count": 1,
   "metadata": {},
   "outputs": [],
   "source": [
    "def arithmetische_mittel(values):\n",
    "    return sum(values)/len(values)"
   ]
  },
  {
   "cell_type": "code",
   "execution_count": 2,
   "metadata": {},
   "outputs": [
    {
     "name": "stderr",
     "output_type": "stream",
     "text": [
      "test_default_1 (__main__.Test.test_default_1) ... ok\n",
      "test_default_2 (__main__.Test.test_default_2) ... ok\n",
      "test_easy_1 (__main__.Test.test_easy_1) ... ok\n",
      "test_easy_2 (__main__.Test.test_easy_2) ... ok\n",
      "test_one_value_1 (__main__.Test.test_one_value_1) ... ok\n",
      "test_one_value_2 (__main__.Test.test_one_value_2) ... ok\n",
      "test_one_value_3 (__main__.Test.test_one_value_3) ... ok\n",
      "\n",
      "----------------------------------------------------------------------\n",
      "Ran 7 tests in 0.007s\n",
      "\n",
      "OK\n"
     ]
    }
   ],
   "source": [
    "data = \"\"\"1 23 27\n",
    "2 16 22\n",
    "3 18 21\n",
    "4 17 26\n",
    "5 22 27\n",
    "6 28 35\n",
    "7 26 31\n",
    "8 22 24\n",
    "9 20 22\n",
    "10 8 15\"\"\"\n",
    "data = data.split(\"\\n\")\n",
    "data = [row.split() for row in data]\n",
    "data\n",
    "import unittest\n",
    "\n",
    "\n",
    "y = [int(row[2]) for row in data]\n",
    "x = [int(row[1]) for row in data]\n",
    "\n",
    "x_mittel = arithmetische_mittel(x)\n",
    "y_mittel = arithmetische_mittel(y)\n",
    "\n",
    "x_mittel\n",
    "y_mittel\n",
    "\n",
    "\n",
    "def varianz(values:list)-> int|float:\n",
    "    mittel = arithmetische_mittel(values)\n",
    "    return sum([(value-mittel)**2 for value in values])/len(values)\n",
    "\n",
    "\n",
    "\n",
    "\n",
    "class Test(unittest.TestCase):\n",
    "    def test_default_1(self):\n",
    "        given = varianz([23, 16, 18, 17, 22, 28, 26, 22, 20, 8])\n",
    "        expected = 29\n",
    "        self.assertEqual(expected, given)\n",
    "        \n",
    "    def test_default_2(self):\n",
    "        given = varianz([27, 22, 21, 26, 27, 35, 31, 24, 22, 15])\n",
    "        expected = 28\n",
    "        self.assertEqual(expected, given)\n",
    "\n",
    "    def test_one_value_1(self):\n",
    "        given = varianz([27])\n",
    "        expected = 0\n",
    "        self.assertEqual(expected, given)\n",
    "\n",
    "    def test_one_value_2(self):\n",
    "        given = varianz([-27])\n",
    "        expected = 0\n",
    "        self.assertEqual(expected, given)\n",
    "        \n",
    "    def test_one_value_3(self):\n",
    "        given = varianz([0])\n",
    "        expected = 0\n",
    "        self.assertEqual(expected, given)\n",
    "\n",
    "    def test_easy_1(self):\n",
    "        given = varianz([0,1])\n",
    "        expected = 0.25\n",
    "        self.assertEqual(expected, given)\n",
    "    def test_easy_2(self):\n",
    "        given = varianz([0,4])\n",
    "        expected = 4\n",
    "        self.assertEqual(expected, given)\n",
    "\n",
    "        \n",
    "if __name__ == '__main__':\n",
    "    unittest.main(argv=[''],verbosity=2,exit=False) \n"
   ]
  },
  {
   "cell_type": "code",
   "execution_count": 7,
   "metadata": {},
   "outputs": [
    {
     "name": "stderr",
     "output_type": "stream",
     "text": [
      "test_default_1 (__main__.Test.test_default_1) ... ok\n",
      "test_default_2 (__main__.Test.test_default_2) ... ok\n",
      "\n",
      "----------------------------------------------------------------------\n",
      "Ran 2 tests in 0.003s\n",
      "\n",
      "OK\n"
     ]
    }
   ],
   "source": [
    "def standardabweichung(values)->float:\n",
    "    return varianz(values)**0.5\n",
    "    # return (varianz(values)*(sum(values)/len(values))**2)**0.5\n",
    "\n",
    "\n",
    "class Test(unittest.TestCase):\n",
    "    def test_default_1(self):\n",
    "        given = standardabweichung([23, 16, 18, 17, 22, 28, 26, 22, 20, 8])\n",
    "        expected = 5.39\n",
    "        self.assertAlmostEqual(expected, given, places=2)\n",
    "    def test_default_2(self):\n",
    "        given = standardabweichung([27, 22, 21, 26, 27, 35, 31, 24, 22, 15])\n",
    "        expected = 5.29\n",
    "        self.assertAlmostEqual(expected, given, places=2)\n",
    "        \n",
    "if __name__ == '__main__':\n",
    "    unittest.main(argv=[''],verbosity=2,exit=False) "
   ]
  }
 ],
 "metadata": {
  "kernelspec": {
   "display_name": ".venv",
   "language": "python",
   "name": "python3"
  },
  "language_info": {
   "codemirror_mode": {
    "name": "ipython",
    "version": 3
   },
   "file_extension": ".py",
   "mimetype": "text/x-python",
   "name": "python",
   "nbconvert_exporter": "python",
   "pygments_lexer": "ipython3",
   "version": "3.13.0"
  }
 },
 "nbformat": 4,
 "nbformat_minor": 2
}
